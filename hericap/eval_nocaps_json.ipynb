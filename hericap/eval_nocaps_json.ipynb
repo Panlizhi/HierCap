{
 "cells": [
  {
   "cell_type": "code",
   "execution_count": null,
   "id": "bfca5495-0b33-4912-a0fa-a015727fc801",
   "metadata": {},
   "outputs": [],
   "source": [
    "# 1. First, run the eval_nocaps.py script to obtain the nocaps_val.json file.\n",
    "\n",
    "# run as bash command\n",
    "export DATA_ROOT=${GEMINI_DATA_IN3}/nocaps            \n",
    "export OUTPUT_ROOT=${GEMINI_DATA_OUT}\n",
    "export MODEL_ROOT1=${GEMINI_PRETRAIN}\n",
    "export MODEL_ROOT2=${GEMINI_PRETRAIN2}    \n",
    "python eval_nocaps.py ++model.cap_generator.decoder_name=Parallel \\\n",
    "    exp.checkpoint=${MODEL_ROOT2}/checkpoint_best_test.pth \\\n",
    "    exp.name=nocaps_evaluation_Parallel \\\n",
    "    optimizer.num_workers=2 \\\n",
    "    exp.ngpus_per_node=2 \\\n",
    "    exp.world_size=2\n"
   ]
  },
  {
   "cell_type": "code",
   "execution_count": 1,
   "id": "91245891-3c95-4620-822e-3e62af814a4c",
   "metadata": {},
   "outputs": [
    {
     "name": "stdout",
     "output_type": "stream",
     "text": [
      "loading annotations into memory...\n",
      "Done (t=0.14s)\n",
      "creating index...\n",
      "index created!\n",
      "Loading and preparing results...\n",
      "DONE (t=0.00s)\n",
      "creating index...\n",
      "index created!\n",
      "tokenization...\n"
     ]
    },
    {
     "name": "stderr",
     "output_type": "stream",
     "text": [
      "PTBTokenizer tokenized 594933 tokens at 1836085.70 tokens per second.\n",
      "PTBTokenizer tokenized 45004 tokens at 360115.16 tokens per second.\n"
     ]
    },
    {
     "name": "stdout",
     "output_type": "stream",
     "text": [
      "setting up scorers...\n",
      "computing Bleu score...\n",
      "{'testlen': 40505, 'reflen': 40701, 'guess': [40505, 36005, 31505, 27005], 'correct': [34194, 20687, 10474, 4623]}\n",
      "ratio: 0.9951843935038207\n",
      "Bleu_1: 0.840\n",
      "Bleu_2: 0.693\n",
      "Bleu_3: 0.542\n",
      "Bleu_4: 0.406\n",
      "computing METEOR score...\n",
      "METEOR: 0.270\n",
      "computing Rouge score...\n",
      "ROUGE_L: 0.581\n",
      "computing CIDEr score...\n",
      "CIDEr: 0.910\n",
      "computing SPICE score...\n"
     ]
    },
    {
     "name": "stderr",
     "output_type": "stream",
     "text": [
      "WARNING: An illegal reflective access operation has occurred\n",
      "WARNING: Illegal reflective access by org.nustaq.serialization.FSTClazzInfo (file:/root/miniconda3/lib/python3.9/site-packages/pycocoevalcap/spice/lib/fst-2.47.jar) to field java.lang.String.value\n",
      "WARNING: Please consider reporting this to the maintainers of org.nustaq.serialization.FSTClazzInfo\n",
      "WARNING: Use --illegal-access=warn to enable warnings of further illegal reflective access operations\n",
      "WARNING: All illegal access operations will be denied in a future release\n",
      "Parsing reference captions\n",
      "Parsing test captions\n",
      "Warning: Nashorn engine is planned to be removed from a future JDK release\n"
     ]
    },
    {
     "name": "stdout",
     "output_type": "stream",
     "text": [
      "SPICE evaluation took: 6.239 s\n",
      "SPICE: 0.129\n",
      "Bleu_1: 0.840\n",
      "Bleu_2: 0.693\n",
      "Bleu_3: 0.542\n",
      "Bleu_4: 0.406\n",
      "METEOR: 0.270\n",
      "ROUGE_L: 0.581\n",
      "CIDEr: 0.910\n",
      "SPICE: 0.129\n"
     ]
    }
   ],
   "source": [
    "# 2.  evalution the nocaps_val.json by eval_json_by_pycocoevalcap.py\n",
    "\n",
    "from pycocotools.coco import COCO\n",
    "from pycocoevalcap.eval import COCOEvalCap\n",
    "\n",
    "\n",
    "def main(annotation_file=None, results_file=None):\n",
    "\n",
    "    # Downloading stanford-corenlp-3.6.0, and move it to /root/miniconda3/lib/python3.9/site-packages/pycocoevalcap/spice/lib\n",
    "\n",
    "    # create coco object and coco_result object\n",
    "    coco = COCO(annotation_file)\n",
    "    coco_result = coco.loadRes(results_file)\n",
    "\n",
    "    # create coco_eval object by taking coco and coco_result\n",
    "    coco_eval = COCOEvalCap(coco, coco_result)\n",
    "    # evaluate on a subset of images by setting\n",
    "    # coco_eval.params['image_id'] = coco_result.getImgIds()\n",
    "    # please remove this line when evaluating the full validation set\n",
    "    coco_eval.params['image_id'] = coco_result.getImgIds()\n",
    "\n",
    "    # evaluate results\n",
    "    # SPICE will take a few minutes the first time, but speeds up due to caching\n",
    "\n",
    "    coco_eval.evaluate()\n",
    "\n",
    "    # print output evaluation scores\n",
    "    for metric, score in coco_eval.eval.items():\n",
    "        print(f'{metric}: {score:.3f}')\n",
    "\n",
    "\n",
    "if __name__ == \"__main__\":\n",
    "    annotation_file=\"/gemini/data-3/nocaps/annotations/nocaps_val_4500_captions.json\"\n",
    "    results_file=\"/gemini/output/nocaps_evaluation_Parallel/nocaps_val.json\"\n",
    "    main(annotation_file,results_file)"
   ]
  },
  {
   "cell_type": "code",
   "execution_count": null,
   "id": "0a4f238b-7126-47a0-91b2-42ea5c486f09",
   "metadata": {},
   "outputs": [],
   "source": []
  }
 ],
 "metadata": {
  "kernelspec": {
   "display_name": "Python 3 (ipykernel)",
   "language": "python",
   "name": "python3"
  },
  "language_info": {
   "codemirror_mode": {
    "name": "ipython",
    "version": 3
   },
   "file_extension": ".py",
   "mimetype": "text/x-python",
   "name": "python",
   "nbconvert_exporter": "python",
   "pygments_lexer": "ipython3",
   "version": "3.9.19"
  }
 },
 "nbformat": 4,
 "nbformat_minor": 5
}
